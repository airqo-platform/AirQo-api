{
 "cells": [
  {
   "cell_type": "code",
   "execution_count": 14,
   "metadata": {},
   "outputs": [],
   "source": [
    "# importing libraries \n",
    "import requests\n",
    "import json\n",
    "from datetime import datetime, timedelta\n",
    "import pandas as pd"
   ]
  },
  {
   "cell_type": "code",
   "execution_count": 15,
   "metadata": {},
   "outputs": [],
   "source": [
    "# using the airqo api to get device details. such as name, status, whether airqo or not\n",
    "response_API = requests.get(\"https://platform.airqo.net/api/v1/devices?tenant=airqo&network=airqo\")\n",
    "output_test = json.dumps(response_API.json(),sort_keys=True,indent =4)\n",
    "device_details = json.loads(output_test)"
   ]
  },
  {
   "cell_type": "code",
   "execution_count": 16,
   "metadata": {},
   "outputs": [],
   "source": [
    "# function to get device details \n",
    "def get_device_details(): \n",
    "    for device in device_data:\n",
    "        device_data = []\n",
    "        status = device.get(\"isActive\",False)\n",
    "        network = device.get(\"network\",False)\n",
    "        if network == \"airqo\": \n",
    "            device_data.append({\"name\":device[\"name\"]})\n",
    "    return device_data"
   ]
  },
  {
   "cell_type": "code",
   "execution_count": 17,
   "metadata": {},
   "outputs": [],
   "source": [
    "def time_window_calculation (): # goal is to have uptime readings count every 60 seconds \n",
    "    end_date_time = datetime.utcnow()\n",
    "    start_date_time = end_date_time - timedelta(minutes = 60)\n",
    "    return start_date_time,end_date_time"
   ]
  },
  {
   "cell_type": "code",
   "execution_count": 18,
   "metadata": {},
   "outputs": [],
   "source": [
    "def data_collection(): \n",
    "    api_data = []\n",
    "    airqo_device_data = []\n",
    "    [x,y] = time_window_calculation()\n",
    "    hourly_data = get_device_details()\n",
    "    for device in hourly_data: # api doesnt return data for PM10 to factor it in the calculation\n",
    "        url = f'https://platform.airqo.net/api/v1/monitor/devices/uptime?' \\\n",
    "        f'tenant=airqo&' \\\n",
    "        f'startDate={datetime.strftime(x, \"%Y-%m-%dT%H:%M:%S.%fZ\")}&' \\\n",
    "        f'endDate={datetime.strftime(y, \"%Y-%m-%dT%H:%M:%S.%fZ\")}&' \\\n",
    "        f'device_name={device[\"name\"]}'\n",
    "        response = requests.get(url).json()\n",
    "        api_data.extend(response[\"data\"])\n",
    "\n",
    "        for record in api_data:\n",
    "            for value in record[\"values\"]:\n",
    "                airqo_device_data.append({\"device\":value[\"device_name\"],\n",
    "                                         \"s1_pm2_5\":value[\"sensor_ome_pm2_5\"],\n",
    "                                         \"s2_pm2_5\": value[\"sensor_two_pm2_5\"]})\n",
    "    airqo_device_data_df = pd.DataFrame(airqo_device_data)\n",
    "    cleaned_device_data = airqo_device_data_df.dropna(subset = [\"s1_pm2_5\",\"s2_pm2_5\"])\n",
    "\n",
    "    return cleaned_device_data\n"
   ]
  },
  {
   "cell_type": "code",
   "execution_count": 19,
   "metadata": {},
   "outputs": [],
   "source": [
    "def calculate_uptime():\n",
    "    expected_data_count  = 60 #60 is just an assumption number to try out the calculation \n",
    "    actual_count_per_device = data_collection().groupyby(pd.Grouper(key =\"device\")).count()\n",
    "    actual_count_per_device.reset_index(inplace=True)\n",
    "    actual_count_per_device[\"uptime\"] = (actual_count_per_device[\"s2_pm2_5\"]/expected_data_count)*100\n",
    "    # using a single coloumn to check for uptime, because i assume we have already dropped all rows with funny data\n",
    "\n",
    "    return actual_count_per_device "
   ]
  },
  {
   "cell_type": "code",
   "execution_count": null,
   "metadata": {},
   "outputs": [],
   "source": []
  }
 ],
 "metadata": {
  "kernelspec": {
   "display_name": "Python 3",
   "language": "python",
   "name": "python3"
  },
  "language_info": {
   "codemirror_mode": {
    "name": "ipython",
    "version": 3
   },
   "file_extension": ".py",
   "mimetype": "text/x-python",
   "name": "python",
   "nbconvert_exporter": "python",
   "pygments_lexer": "ipython3",
   "version": "3.10.9"
  },
  "orig_nbformat": 4,
  "vscode": {
   "interpreter": {
    "hash": "e50443b06017ffe47d16187fa7394c9d2856f9ba520fb2c80c4aadf8dd0ec0ec"
   }
  }
 },
 "nbformat": 4,
 "nbformat_minor": 2
}
